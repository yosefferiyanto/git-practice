{
 "cells": [
  {
   "cell_type": "code",
   "execution_count": null,
   "metadata": {},
   "outputs": [],
   "source": [
    "'''\n",
    "=================================================\n",
    "Live Code Simulation\n",
    "\n",
    "Nama  : Yosef Feriyanto\n",
    "Batch : HCK-007\n",
    "\n",
    "Program Iventory Management\n",
    "=================================================\n",
    "'''\n"
   ]
  },
  {
   "cell_type": "code",
   "execution_count": 22,
   "metadata": {},
   "outputs": [
    {
     "name": "stdout",
     "output_type": "stream",
     "text": [
      "[['telur', 'sembako', 2000], ['pasta gigi', 'perawatan', 8000], ['tali', 'perkakas', 5000], ['kopi', 'minuman', 8000]]\n"
     ]
    }
   ],
   "source": [
    "data = [['telur', 'sembako', 2000], ['pasta gigi', 'perawatan', 8000], ['tali', 'perkakas', 5000], ['kopi', 'minuman', 8000]]\n",
    "print(data)"
   ]
  },
  {
   "cell_type": "code",
   "execution_count": 21,
   "metadata": {},
   "outputs": [
    {
     "name": "stdout",
     "output_type": "stream",
     "text": [
      "Data belum tersedia, silahkan pilih menu 1 untuk isi data\n"
     ]
    }
   ],
   "source": [
    "if data == None:\n",
    "    print('Data belum tersedia, silahkan pilih menu 1 untuk isi data')\n",
    "\n",
    "data = None"
   ]
  },
  {
   "cell_type": "code",
   "execution_count": 19,
   "metadata": {},
   "outputs": [
    {
     "name": "stdout",
     "output_type": "stream",
     "text": [
      "nama: telur kategori: sembako harga: 2000\n"
     ]
    }
   ],
   "source": [
    "def input_data(nama, kategori, harga):\n",
    "    print('nama:', nama, 'kategori:', kategori, 'harga:', harga)\n",
    "\n",
    "input_data('telur', 'sembako', 2000)"
   ]
  },
  {
   "cell_type": "code",
   "execution_count": 20,
   "metadata": {},
   "outputs": [
    {
     "name": "stdout",
     "output_type": "stream",
     "text": [
      "nama: kopi kategori: minuman harga: 8000\n"
     ]
    }
   ],
   "source": [
    "input_data('kopi', 'minuman', 8000)"
   ]
  }
 ],
 "metadata": {
  "kernelspec": {
   "display_name": "base",
   "language": "python",
   "name": "python3"
  },
  "language_info": {
   "codemirror_mode": {
    "name": "ipython",
    "version": 3
   },
   "file_extension": ".py",
   "mimetype": "text/x-python",
   "name": "python",
   "nbconvert_exporter": "python",
   "pygments_lexer": "ipython3",
   "version": "3.9.17"
  },
  "orig_nbformat": 4
 },
 "nbformat": 4,
 "nbformat_minor": 2
}
