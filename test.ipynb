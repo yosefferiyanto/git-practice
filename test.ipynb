{
 "cells": [
  {
   "cell_type": "code",
   "execution_count": 1,
   "metadata": {},
   "outputs": [
    {
     "name": "stdout",
     "output_type": "stream",
     "text": [
      "# packages in environment at C:\\Users\\omen\\miniconda3\\envs\\hck007:\n",
      "#\n",
      "# Name                    Version                   Build  Channel\n",
      "asttokens                 2.2.1              pyhd8ed1ab_0    conda-forge\n",
      "backcall                  0.2.0              pyh9f0ad1d_0    conda-forge\n",
      "backports                 1.0                pyhd8ed1ab_3    conda-forge\n",
      "backports.functools_lru_cache 1.6.5              pyhd8ed1ab_0    conda-forge\n",
      "beautifulsoup4            4.12.2                   pypi_0    pypi\n",
      "blas                      1.0                         mkl  \n",
      "bottleneck                1.3.5            py38h080aedc_0  \n",
      "ca-certificates           2023.7.22            h56e8100_0    conda-forge\n",
      "colorama                  0.4.6              pyhd8ed1ab_0    conda-forge\n",
      "debugpy                   1.5.1            py38hd77b12b_0  \n",
      "decorator                 5.1.1              pyhd8ed1ab_0    conda-forge\n",
      "executing                 1.2.0              pyhd8ed1ab_0    conda-forge\n",
      "importlib-metadata        6.8.0              pyha770c72_0    conda-forge\n",
      "importlib_metadata        6.8.0                hd8ed1ab_0    conda-forge\n",
      "intel-openmp              2023.1.0         h59b6b97_46319  \n",
      "ipykernel                 6.15.0             pyh025b116_0    conda-forge\n",
      "ipython                   8.12.0             pyh08f2357_0    conda-forge\n",
      "jedi                      0.18.2             pyhd8ed1ab_0    conda-forge\n",
      "jupyter_client            8.3.0              pyhd8ed1ab_0    conda-forge\n",
      "jupyter_core              5.3.1            py38haa244fe_0    conda-forge\n",
      "libffi                    3.4.4                hd77b12b_0  \n",
      "libsodium                 1.0.18               h8d14728_1    conda-forge\n",
      "matplotlib-inline         0.1.6              pyhd8ed1ab_0    conda-forge\n",
      "mkl                       2023.1.0         h8bd8f75_46356  \n",
      "mkl-service               2.4.0            py38h2bbff1b_1  \n",
      "mkl_fft                   1.3.6            py38hf11a4ad_1  \n",
      "mkl_random                1.2.2            py38hf11a4ad_1  \n",
      "nest-asyncio              1.5.6              pyhd8ed1ab_0    conda-forge\n",
      "numexpr                   2.8.4            py38h7b80656_1  \n",
      "numpy                     1.24.4                   pypi_0    pypi\n",
      "numpy-base                1.24.3           py38h8a87ada_1  \n",
      "openssl                   3.0.9                h2bbff1b_0  \n",
      "packaging                 23.1               pyhd8ed1ab_0    conda-forge\n",
      "pandas                    1.5.3            py38hf11a4ad_0  \n",
      "parso                     0.8.3              pyhd8ed1ab_0    conda-forge\n",
      "pickleshare               0.7.5                   py_1003    conda-forge\n",
      "pip                       23.1.2           py38haa95532_0  \n",
      "platformdirs              3.9.1              pyhd8ed1ab_0    conda-forge\n",
      "prompt-toolkit            3.0.39             pyha770c72_0    conda-forge\n",
      "prompt_toolkit            3.0.39               hd8ed1ab_0    conda-forge\n",
      "psutil                    5.9.0            py38h2bbff1b_0  \n",
      "pure_eval                 0.2.2              pyhd8ed1ab_0    conda-forge\n",
      "pygments                  2.15.1             pyhd8ed1ab_0    conda-forge\n",
      "python                    3.8.17               h1aa4202_0  \n",
      "python-dateutil           2.8.2              pyhd3eb1b0_0  \n",
      "python_abi                3.8                      2_cp38    conda-forge\n",
      "pytz                      2022.7           py38haa95532_0  \n",
      "pywin32                   305              py38h2bbff1b_0  \n",
      "pyzmq                     25.1.0           py38hd77b12b_0  \n",
      "setuptools                67.8.0           py38haa95532_0  \n",
      "six                       1.16.0             pyhd3eb1b0_1  \n",
      "soupsieve                 2.4.1                    pypi_0    pypi\n",
      "sqlite                    3.41.2               h2bbff1b_0  \n",
      "stack_data                0.6.2              pyhd8ed1ab_0    conda-forge\n",
      "tbb                       2021.8.0             h59b6b97_0  \n",
      "tornado                   6.2              py38h294d835_0    conda-forge\n",
      "traitlets                 5.9.0              pyhd8ed1ab_0    conda-forge\n",
      "typing-extensions         4.7.1                hd8ed1ab_0    conda-forge\n",
      "typing_extensions         4.7.1              pyha770c72_0    conda-forge\n",
      "vc                        14.2                 h21ff451_1  \n",
      "vs2015_runtime            14.27.29016          h5e58377_2  \n",
      "wcwidth                   0.2.6              pyhd8ed1ab_0    conda-forge\n",
      "wheel                     0.38.4           py38haa95532_0  \n",
      "zeromq                    4.3.4                h0e60522_1    conda-forge\n",
      "zipp                      3.16.2             pyhd8ed1ab_0    conda-forge\n"
     ]
    }
   ],
   "source": [
    "!conda list"
   ]
  },
  {
   "cell_type": "code",
   "execution_count": 2,
   "metadata": {},
   "outputs": [
    {
     "name": "stdout",
     "output_type": "stream",
     "text": [
      "Hello World!\n"
     ]
    }
   ],
   "source": [
    "print('Hello World!')"
   ]
  }
 ],
 "metadata": {
  "kernelspec": {
   "display_name": "hck007",
   "language": "python",
   "name": "python3"
  },
  "language_info": {
   "codemirror_mode": {
    "name": "ipython",
    "version": 3
   },
   "file_extension": ".py",
   "mimetype": "text/x-python",
   "name": "python",
   "nbconvert_exporter": "python",
   "pygments_lexer": "ipython3",
   "version": "3.8.17"
  },
  "orig_nbformat": 4
 },
 "nbformat": 4,
 "nbformat_minor": 2
}
